{
 "cells": [
  {
   "cell_type": "markdown",
   "id": "45b98f11",
   "metadata": {},
   "source": [
    "# Keyword Search"
   ]
  },
  {
   "cell_type": "markdown",
   "id": "06335224",
   "metadata": {},
   "source": [
    "## Setup\n",
    "\n",
    "Load needed API keys and relevant Python libaries."
   ]
  },
  {
   "cell_type": "code",
   "execution_count": null,
   "id": "c54004a6",
   "metadata": {
    "height": 47
   },
   "outputs": [],
   "source": [
    "# !pip install cohere\n",
    "# !pip install weaviate-client"
   ]
  },
  {
   "cell_type": "code",
   "execution_count": 1,
   "id": "45ff94ae-8603-431a-acee-0ec3a39a1056",
   "metadata": {
    "height": 64
   },
   "outputs": [],
   "source": [
    "import os\n",
    "from dotenv import load_dotenv, find_dotenv\n",
    "_ = load_dotenv(find_dotenv()) # read local .env file"
   ]
  },
  {
   "cell_type": "markdown",
   "id": "c23677b6",
   "metadata": {},
   "source": [
    "Let's start by imporing Weaviate to access the Wikipedia database."
   ]
  },
  {
   "cell_type": "code",
   "execution_count": 2,
   "id": "f44886bf-f8cf-4f90-83ae-2299ec448e16",
   "metadata": {
    "height": 98
   },
   "outputs": [],
   "source": [
    "import weaviate\n",
    "auth_config = weaviate.auth.AuthApiKey(\n",
    "    api_key=os.environ['WEAVIATE_API_KEY'])\n",
    "\n"
   ]
  },
  {
   "cell_type": "code",
   "execution_count": 3,
   "id": "750583ec-7263-4927-b484-9818fba3318b",
   "metadata": {
    "height": 132
   },
   "outputs": [],
   "source": [
    "client = weaviate.Client(\n",
    "    url=os.environ['WEAVIATE_API_URL'],\n",
    "    auth_client_secret=auth_config,\n",
    "    additional_headers={\n",
    "        \"X-Cohere-Api-Key\": os.environ['COHERE_API_KEY'],\n",
    "    }\n",
    ")"
   ]
  },
  {
   "cell_type": "code",
   "execution_count": 11,
   "id": "d340d553",
   "metadata": {
    "height": 30
   },
   "outputs": [
    {
     "data": {
      "text/plain": [
       "'http://jupyter-api-proxy.internal.dlai/rev-proxy/weaviate'"
      ]
     },
     "execution_count": 11,
     "metadata": {},
     "output_type": "execute_result"
    }
   ],
   "source": [
    "os.environ['WEAVIATE_API_URL']"
   ]
  },
  {
   "cell_type": "code",
   "execution_count": 4,
   "id": "2efcdfdc-1566-4046-95d8-f9f2f3a36088",
   "metadata": {
    "height": 30
   },
   "outputs": [
    {
     "data": {
      "text/plain": [
       "True"
      ]
     },
     "execution_count": 4,
     "metadata": {},
     "output_type": "execute_result"
    }
   ],
   "source": [
    "client.is_ready() "
   ]
  },
  {
   "cell_type": "markdown",
   "id": "78acc1ed",
   "metadata": {},
   "source": [
    "# Keyword Search"
   ]
  },
  {
   "cell_type": "code",
   "execution_count": 5,
   "id": "017cd922-c729-4aa7-8696-d11d28eb7288",
   "metadata": {
    "height": 404
   },
   "outputs": [],
   "source": [
    "def keyword_search(query,\n",
    "                   results_lang='en',\n",
    "                   properties = [\"title\",\"url\",\"text\"],\n",
    "                   num_results=3):\n",
    "\n",
    "    where_filter = {\n",
    "    \"path\": [\"lang\"],\n",
    "    \"operator\": \"Equal\",\n",
    "    \"valueString\": results_lang\n",
    "    }\n",
    "    \n",
    "    response = (\n",
    "        client.query.get(\"Articles\", properties)\n",
    "        .with_bm25(\n",
    "            query=query\n",
    "        )\n",
    "        .with_where(where_filter)\n",
    "        .with_limit(num_results)\n",
    "        .do()\n",
    "        )\n",
    "\n",
    "    result = response['data']['Get']['Articles']\n",
    "    return result"
   ]
  },
  {
   "cell_type": "code",
   "execution_count": 14,
   "id": "5a9e70d9-326f-443c-915a-5a97c0dfe54b",
   "metadata": {
    "height": 64,
    "jupyter": {
     "outputs_hidden": true
    }
   },
   "outputs": [
    {
     "name": "stdout",
     "output_type": "stream",
     "text": [
      "[{'text': 'The most active Gamergate supporters or \"Gamergaters\" said that Gamergate was a movement for ethics in games journalism, for protecting the \"gamer\" identity, and for opposing \"political correctness\" in video games and that any harassment of women was done by others not affiliated with Gamergate. They argued that the close relationships between journalists and developers demonstrated a conspiracy among reviewers to focus on progressive social issues. Some supporters pointed to what they considered disproportionate praise for games such as \"Depression Quest\" and \"Gone Home\", which feature unconventional gameplay and stories with social implications, while they viewed traditional AAA games as downplayed. False claims of the \"ethics in game journalism\" had started as early as 2012, when Geoff Keighley was accused of such unethical behavior when he was presenting information about \"Halo 4\" among advertisements for Mountain Dew and Doritos, an event called \"Doritosgate\" in the gamer culture.', 'title': 'Gamergate (harassment campaign)', 'url': 'https://en.wikipedia.org/wiki?curid=43758363'}, {'text': '\"Fortnite Battle Royale\" has also had record viewership on various streaming services. One of the first major streams of \"Fortnite\" was in March 2018, in which Tyler \"Ninja\" Blevins hosted a stream that included Drake, Travis Scott, Kim DotCom, and Pittsburgh Steelers wide receiver JuJu Smith-Schuster all playing the game. The stream broke over 635,000 concurrent viewers, making it the highest-watched stream on Twitch outside of esports tournaments at the time. YouTube streamer Rubén Doblas Gundersen held a \"Fortnite Battle Royale\" match with 99 other well-known YouTube streamers in late March, which drew over 1.1 million viewers, making it one of the most-watched gaming YouTube streams. The \"Fortnite\" Pro-Am event held at E3 2018 was estimated to have drawn over 1.3 million views across Twitch and other streaming services, making it one of the highest-viewed live-streamed event to date.', 'title': 'Fortnite Battle Royale', 'url': 'https://en.wikipedia.org/wiki?curid=56819881'}, {'text': 'On September 11, 1994, Sanders struggled, as he had 12 attempts for only 16 yards in a 3–10 loss against the Minnesota Vikings. Against the Dallas Cowboys the following week, Sanders improved with a career-high 40 attempts for 194 yards. For his performance, he was named the NFC Offensive Player of The Week. On September 25, 1994, against the New England Patriots, Sanders recorded 18 attempts for 131 yards and two touchdowns. During the game, Sanders had one of the most memorable runs of his career. While rushing 39-yards for a touchdown, Sanders juked and spun his way to the end zone, causing Patriots safety Harlon Barnett to spin around trying to tackle Sanders. Barnett later spoke of the moment: \"I\\'m not embarrassed about what happened. I thought I did pretty good. I got in front of him twice\", Barnett then added, \"I just didn\\'t stay there.\" Against the Tampa Bay Buccaneers, Sanders had arguably the best statistical game of his career, compiling a career-high 237 rushing yards (franchise record), off of 26 attempts; setting the record for most rushing yards in a single game without scoring a touchdown. Sanders finished first in the league in rushing yards, recording 331 attempts for 1,883 rushing yards and scoring seven touchdowns. His single-season rushing total was fourth in NFL history up to that point. He totaled 2,166 yards from scrimmage, which, at the time, was the seventh-most ever in a season. As a result of his season, he was selected to the Pro Bowl and named an AP first-team All-Pro after the regular season. Sanders was named the NFL Offensive Player of the Year for the 1994 season and finished second in NFL Most Valuable Player voting behind Steve Young. The Lions finished the year with a record and made the postseason with a wild card spot. The Lions faced the Green Bay Packers again in the Wild Card Round, after being defeated by them the previous season. On December 31, Sanders struggled against the Packers and recorded what is viewed as the worst game of his career, having 13 attempts for -1 rushing yards. Six of his 13 attempts went for negative yardage, and the Lions as a team were held to only -4 rushing yards in the game, losing 12–16.', 'title': 'Barry Sanders', 'url': 'https://en.wikipedia.org/wiki?curid=179348'}]\n"
     ]
    }
   ],
   "source": [
    "query = \"What is the most viewed event on TV ?\"\n",
    "keyword_search_results = keyword_search(query)\n",
    "print(keyword_search_results)"
   ]
  },
  {
   "cell_type": "markdown",
   "id": "b15686a7",
   "metadata": {},
   "source": [
    "### Try modifying the search options\n",
    "- Other languages to try: `en, de, fr, es, it, ja, ar, zh, ko, hi`"
   ]
  },
  {
   "cell_type": "code",
   "execution_count": 15,
   "id": "260397fc-2799-426d-8b82-afbe9c3a126e",
   "metadata": {
    "height": 47
   },
   "outputs": [],
   "source": [
    "properties = [\"text\", \"title\", \"url\", \n",
    "             \"views\", \"lang\"]"
   ]
  },
  {
   "cell_type": "code",
   "execution_count": 16,
   "id": "2a2daa0b-dd23-4ffd-8b3d-d08b73e052b9",
   "metadata": {
    "height": 149
   },
   "outputs": [],
   "source": [
    "def print_result(result):\n",
    "    \"\"\" Print results with colorful formatting \"\"\"\n",
    "    for i,item in enumerate(result):\n",
    "        print(f'item {i}')\n",
    "        for key in item.keys():\n",
    "            print(f\"{key}:{item.get(key)}\")\n",
    "            print()\n",
    "        print()"
   ]
  },
  {
   "cell_type": "code",
   "execution_count": 17,
   "id": "6bdb1635-adad-411b-8059-d6b8b251fb2c",
   "metadata": {
    "height": 30,
    "jupyter": {
     "outputs_hidden": true
    },
    "scrolled": true
   },
   "outputs": [
    {
     "name": "stdout",
     "output_type": "stream",
     "text": [
      "item 0\n",
      "text:The most active Gamergate supporters or \"Gamergaters\" said that Gamergate was a movement for ethics in games journalism, for protecting the \"gamer\" identity, and for opposing \"political correctness\" in video games and that any harassment of women was done by others not affiliated with Gamergate. They argued that the close relationships between journalists and developers demonstrated a conspiracy among reviewers to focus on progressive social issues. Some supporters pointed to what they considered disproportionate praise for games such as \"Depression Quest\" and \"Gone Home\", which feature unconventional gameplay and stories with social implications, while they viewed traditional AAA games as downplayed. False claims of the \"ethics in game journalism\" had started as early as 2012, when Geoff Keighley was accused of such unethical behavior when he was presenting information about \"Halo 4\" among advertisements for Mountain Dew and Doritos, an event called \"Doritosgate\" in the gamer culture.\n",
      "\n",
      "title:Gamergate (harassment campaign)\n",
      "\n",
      "url:https://en.wikipedia.org/wiki?curid=43758363\n",
      "\n",
      "\n",
      "item 1\n",
      "text:\"Fortnite Battle Royale\" has also had record viewership on various streaming services. One of the first major streams of \"Fortnite\" was in March 2018, in which Tyler \"Ninja\" Blevins hosted a stream that included Drake, Travis Scott, Kim DotCom, and Pittsburgh Steelers wide receiver JuJu Smith-Schuster all playing the game. The stream broke over 635,000 concurrent viewers, making it the highest-watched stream on Twitch outside of esports tournaments at the time. YouTube streamer Rubén Doblas Gundersen held a \"Fortnite Battle Royale\" match with 99 other well-known YouTube streamers in late March, which drew over 1.1 million viewers, making it one of the most-watched gaming YouTube streams. The \"Fortnite\" Pro-Am event held at E3 2018 was estimated to have drawn over 1.3 million views across Twitch and other streaming services, making it one of the highest-viewed live-streamed event to date.\n",
      "\n",
      "title:Fortnite Battle Royale\n",
      "\n",
      "url:https://en.wikipedia.org/wiki?curid=56819881\n",
      "\n",
      "\n",
      "item 2\n",
      "text:On September 11, 1994, Sanders struggled, as he had 12 attempts for only 16 yards in a 3–10 loss against the Minnesota Vikings. Against the Dallas Cowboys the following week, Sanders improved with a career-high 40 attempts for 194 yards. For his performance, he was named the NFC Offensive Player of The Week. On September 25, 1994, against the New England Patriots, Sanders recorded 18 attempts for 131 yards and two touchdowns. During the game, Sanders had one of the most memorable runs of his career. While rushing 39-yards for a touchdown, Sanders juked and spun his way to the end zone, causing Patriots safety Harlon Barnett to spin around trying to tackle Sanders. Barnett later spoke of the moment: \"I'm not embarrassed about what happened. I thought I did pretty good. I got in front of him twice\", Barnett then added, \"I just didn't stay there.\" Against the Tampa Bay Buccaneers, Sanders had arguably the best statistical game of his career, compiling a career-high 237 rushing yards (franchise record), off of 26 attempts; setting the record for most rushing yards in a single game without scoring a touchdown. Sanders finished first in the league in rushing yards, recording 331 attempts for 1,883 rushing yards and scoring seven touchdowns. His single-season rushing total was fourth in NFL history up to that point. He totaled 2,166 yards from scrimmage, which, at the time, was the seventh-most ever in a season. As a result of his season, he was selected to the Pro Bowl and named an AP first-team All-Pro after the regular season. Sanders was named the NFL Offensive Player of the Year for the 1994 season and finished second in NFL Most Valuable Player voting behind Steve Young. The Lions finished the year with a record and made the postseason with a wild card spot. The Lions faced the Green Bay Packers again in the Wild Card Round, after being defeated by them the previous season. On December 31, Sanders struggled against the Packers and recorded what is viewed as the worst game of his career, having 13 attempts for -1 rushing yards. Six of his 13 attempts went for negative yardage, and the Lions as a team were held to only -4 rushing yards in the game, losing 12–16.\n",
      "\n",
      "title:Barry Sanders\n",
      "\n",
      "url:https://en.wikipedia.org/wiki?curid=179348\n",
      "\n",
      "\n"
     ]
    }
   ],
   "source": [
    "print_result(keyword_search_results)"
   ]
  },
  {
   "cell_type": "code",
   "execution_count": 10,
   "id": "2350fa0e-f896-42af-bcb1-a7577f9c9be1",
   "metadata": {
    "height": 64
   },
   "outputs": [
    {
     "name": "stdout",
     "output_type": "stream",
     "text": [
      "item 0\n",
      "text:Das nächste Album \"Extinction Level Event: The Final World Front\", dessen Titel vom Film \"Deep Impact\" inspiriert war, enthielt die Single \"Gimme Some More\", die im Januar 1999 Platz 5 der britischen Charts belegte. Mit Janet Jackson sang er außerdem den Erfolgshit \"What’s It Gonna Be?!\"\n",
      "\n",
      "title:Busta Rhymes\n",
      "\n",
      "url:https://de.wikipedia.org/wiki?curid=238582\n",
      "\n",
      "\n",
      "item 1\n",
      "text:Der Begriff Strukturalismus ist vom Wort Struktur abgeleitet und wurde vereinzelt seit Mitte des 19. Jahrhunderts verwendet. In der Psychologie wurde er 1907 von James Rowland Angell in einem Aufsatz über Edward Bradford Titchener eingeführt. In der Sprach- und Literaturwissenschaft wurde er seit den 1920er vom Prager linguistischen Kreis verwendet. Dort knüpfte Roman Jakobson an die Schule des Russischen Formalismus an und verwendete den Begriff „Strukturalismus“ erstmals 1929 in einem in der Prager Zeitschrift \"Čin\" auf Tschechisch unter dem Titel \"Romantischer Panslawismus – neue Slawistik\" (\"Romantické všeslovanství — nová slávistika\") veröffentlichten Aufsatz:Were we to comprise the leading idea of present-day science in its most various manifestations, we could hardly find a more appropriate designation than structuralism. Any set of phenomena examined by contemporary science is treated not as a mechanical agglomeration but as a structural whole, and the basic task is to reveal the inner, whether static or developmental, laws of this system. What appears to be the focus of scientific preoccupations is no longer the outer stimulus, but the internal premises of the development; now the mechanical conception of processes yields to the question of their functions.\n",
      "\n",
      "title:Strukturalismus\n",
      "\n",
      "url:https://de.wikipedia.org/wiki?curid=88840\n",
      "\n",
      "\n",
      "item 2\n",
      "text:Summer of Soul (…Or, When the Revolution Could Not Be Televised) – David Dinerstein, Robert Fyvolent, Joseph Patel und Ahmir „Questlove“ Thompson\n",
      "\n",
      "title:Oscarverleihung 2022\n",
      "\n",
      "url:https://de.wikipedia.org/wiki?curid=11922735\n",
      "\n",
      "\n"
     ]
    }
   ],
   "source": [
    "query = \"What is the most viewed televised event?\"\n",
    "keyword_search_results = keyword_search(query, results_lang='de')\n",
    "print_result(keyword_search_results)"
   ]
  },
  {
   "cell_type": "code",
   "execution_count": null,
   "id": "99269036-ec4e-4852-85fc-19593df6e638",
   "metadata": {
    "height": 30
   },
   "outputs": [],
   "source": []
  },
  {
   "cell_type": "code",
   "execution_count": null,
   "id": "64bb115e-bfe4-4d0c-99a6-a8ef980365f7",
   "metadata": {
    "height": 30
   },
   "outputs": [],
   "source": []
  },
  {
   "cell_type": "markdown",
   "id": "f40ca604-5ab7-4f35-86b1-0420842b6b6b",
   "metadata": {},
   "source": [
    "## How to get your own API key\n",
    "\n",
    "For this course, an API key is provided for you.  If you would like to develop projects with Cohere's API outside of this classroom, you can register for an API key [here](https://dashboard.cohere.ai/welcome/register?utm_source=partner&utm_medium=website&utm_campaign=DeeplearningAI)."
   ]
  }
 ],
 "metadata": {
  "kernelspec": {
   "display_name": "Python 3 (ipykernel)",
   "language": "python",
   "name": "python3"
  },
  "language_info": {
   "codemirror_mode": {
    "name": "ipython",
    "version": 3
   },
   "file_extension": ".py",
   "mimetype": "text/x-python",
   "name": "python",
   "nbconvert_exporter": "python",
   "pygments_lexer": "ipython3",
   "version": "3.9.17"
  }
 },
 "nbformat": 4,
 "nbformat_minor": 5
}
